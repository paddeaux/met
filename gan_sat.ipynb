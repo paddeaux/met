{
 "cells": [
  {
   "attachments": {},
   "cell_type": "markdown",
   "metadata": {},
   "source": [
    "# CRT Placement - Met Éireann\n",
    "\n",
    "This notebook uses the architecture described here: **https://arxiv.org/pdf/1710.10196.pdf** to attempt to generate synthetic satellite imagery. The network will be trained using the SEN12MS dataset initially, and a PyTorch-based architecture will be used."
   ]
  },
  {
   "attachments": {},
   "cell_type": "markdown",
   "metadata": {},
   "source": [
    "## Package Imports"
   ]
  },
  {
   "cell_type": "code",
   "execution_count": 2,
   "metadata": {},
   "outputs": [],
   "source": [
    "# The original ProGAN archictecutre comes from here: https://www.kaggle.com/code/paddeaux/pggan-progressive-growing-gan-pggan-pytorch/edit\n",
    "\n",
    "# Base packages\n",
    "import numpy as np\n",
    "import pandas as pd\n",
    "from math import log2\n",
    "import random\n",
    "import os\n",
    "from tqdm import tqdm\n",
    "from typing import Tuple, Dict, List\n",
    "import pathlib\n",
    "\n",
    "# Image processing and plotting\n",
    "import rasterio\n",
    "from rasterio.plot import show\n",
    "import cv2\n",
    "from PIL import Image\n",
    "import matplotlib.pyplot as plt\n",
    "from wopt.ml import transforms as tf\n",
    "\n",
    "# Torch packages\n",
    "import torch\n",
    "import torch.nn as nn\n",
    "import torch.nn.functional as F\n",
    "import torchvision\n",
    "from torchvision.utils import save_image\n",
    "import torch.optim as optim\n",
    "import torchvision.datasets as datasets\n",
    "import torchvision.transforms as transforms\n",
    "from torch.utils.data import DataLoader\n",
    "from torch.utils.tensorboard import SummaryWriter\n",
    "from torch.utils.data import Dataset\n",
    "\n",
    "torch.backends.cudnn.benchmarks = True\n",
    "os.environ[\"KMP_DUPLICATE_LIB_OK\"]=\"TRUE\""
   ]
  },
  {
   "cell_type": "code",
   "execution_count": 18,
   "metadata": {},
   "outputs": [
    {
     "name": "stdout",
     "output_type": "stream",
     "text": [
      "<class 'numpy.ndarray'>\n"
     ]
    },
    {
     "name": "stderr",
     "output_type": "stream",
     "text": [
      "c:\\Users\\Paddy\\miniconda3\\envs\\wopt\\lib\\site-packages\\rasterio\\__init__.py:329: NotGeoreferencedWarning: Dataset has no geotransform, gcps, or rpcs. The identity matrix will be returned.\n",
      "  dataset = writer(\n"
     ]
    }
   ],
   "source": [
    "DATA_SOURCE = os.path.join(os.path.dirname(os.getcwd()), \"Input/sen12.tif\")\n",
    "img_one = rasterio.open(DATA_SOURCE).read()#\"generated_images/step3_epoch4_0.tif\")\n",
    "\n",
    "print(type(img_one))\n",
    "with rasterio.open(\n",
    "                os.path.join(os.path.dirname(os.getcwd()), \"Input/sen12_save\"), \n",
    "                mode=\"w\",\n",
    "                driver=\"GTiff\",\n",
    "                count=13,\n",
    "                height=img_one.shape[1], \n",
    "                width=img_one.shape[2],\n",
    "                crs='EPSG:32737',\n",
    "                dtype=rasterio.uint16\n",
    "            ) as new_file:\n",
    "                new_file.write(img_one, [x for x in range(1,14)])   \n",
    "\n",
    " "
   ]
  },
  {
   "cell_type": "code",
   "execution_count": null,
   "metadata": {},
   "outputs": [],
   "source": []
  },
  {
   "cell_type": "code",
   "execution_count": null,
   "metadata": {},
   "outputs": [],
   "source": []
  }
 ],
 "metadata": {
  "kernelspec": {
   "display_name": "met",
   "language": "python",
   "name": "python3"
  },
  "language_info": {
   "codemirror_mode": {
    "name": "ipython",
    "version": 3
   },
   "file_extension": ".py",
   "mimetype": "text/x-python",
   "name": "python",
   "nbconvert_exporter": "python",
   "pygments_lexer": "ipython3",
   "version": "3.10.12"
  },
  "orig_nbformat": 4
 },
 "nbformat": 4,
 "nbformat_minor": 2
}
